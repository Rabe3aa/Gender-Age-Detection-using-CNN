{
 "cells": [
  {
   "cell_type": "code",
   "execution_count": 206,
   "id": "98a5c4e2",
   "metadata": {},
   "outputs": [],
   "source": [
    "import numpy as np\n",
    "import matplotlib.pyplot as plt\n",
    "import pandas as pd\n",
    "import tensorflow as tf\n",
    "from PIL import Image\n",
    "from tensorflow import keras"
   ]
  },
  {
   "cell_type": "code",
   "execution_count": 207,
   "id": "3c6d4746",
   "metadata": {},
   "outputs": [],
   "source": [
    "df = pd.read_csv('D:\\Education\\Projects\\Gender-Age-Detection-using-CNN\\Data\\Age_Gender_DATASET.csv')"
   ]
  },
  {
   "cell_type": "code",
   "execution_count": 208,
   "id": "faecd8c0",
   "metadata": {},
   "outputs": [
    {
     "data": {
      "text/html": [
       "<div>\n",
       "<style scoped>\n",
       "    .dataframe tbody tr th:only-of-type {\n",
       "        vertical-align: middle;\n",
       "    }\n",
       "\n",
       "    .dataframe tbody tr th {\n",
       "        vertical-align: top;\n",
       "    }\n",
       "\n",
       "    .dataframe thead th {\n",
       "        text-align: right;\n",
       "    }\n",
       "</style>\n",
       "<table border=\"1\" class=\"dataframe\">\n",
       "  <thead>\n",
       "    <tr style=\"text-align: right;\">\n",
       "      <th></th>\n",
       "      <th>age</th>\n",
       "      <th>ethnicity</th>\n",
       "      <th>gender</th>\n",
       "      <th>img_name</th>\n",
       "      <th>pixels</th>\n",
       "    </tr>\n",
       "  </thead>\n",
       "  <tbody>\n",
       "    <tr>\n",
       "      <th>0</th>\n",
       "      <td>1</td>\n",
       "      <td>2</td>\n",
       "      <td>0</td>\n",
       "      <td>20161219203650636.jpg.chip.jpg</td>\n",
       "      <td>129 128 128 126 127 130 133 135 139 142 145 14...</td>\n",
       "    </tr>\n",
       "    <tr>\n",
       "      <th>1</th>\n",
       "      <td>1</td>\n",
       "      <td>2</td>\n",
       "      <td>0</td>\n",
       "      <td>20161219222752047.jpg.chip.jpg</td>\n",
       "      <td>164 74 111 168 169 171 175 182 184 188 193 199...</td>\n",
       "    </tr>\n",
       "    <tr>\n",
       "      <th>2</th>\n",
       "      <td>1</td>\n",
       "      <td>2</td>\n",
       "      <td>0</td>\n",
       "      <td>20161219222832191.jpg.chip.jpg</td>\n",
       "      <td>67 70 71 70 69 67 70 79 90 103 116 132 145 155...</td>\n",
       "    </tr>\n",
       "    <tr>\n",
       "      <th>3</th>\n",
       "      <td>1</td>\n",
       "      <td>2</td>\n",
       "      <td>0</td>\n",
       "      <td>20161220144911423.jpg.chip.jpg</td>\n",
       "      <td>193 197 198 200 199 200 202 203 204 205 208 21...</td>\n",
       "    </tr>\n",
       "    <tr>\n",
       "      <th>4</th>\n",
       "      <td>1</td>\n",
       "      <td>2</td>\n",
       "      <td>0</td>\n",
       "      <td>20161220144914327.jpg.chip.jpg</td>\n",
       "      <td>202 205 209 210 209 209 210 211 212 214 218 21...</td>\n",
       "    </tr>\n",
       "  </tbody>\n",
       "</table>\n",
       "</div>"
      ],
      "text/plain": [
       "   age  ethnicity  gender                        img_name  \\\n",
       "0    1          2       0  20161219203650636.jpg.chip.jpg   \n",
       "1    1          2       0  20161219222752047.jpg.chip.jpg   \n",
       "2    1          2       0  20161219222832191.jpg.chip.jpg   \n",
       "3    1          2       0  20161220144911423.jpg.chip.jpg   \n",
       "4    1          2       0  20161220144914327.jpg.chip.jpg   \n",
       "\n",
       "                                              pixels  \n",
       "0  129 128 128 126 127 130 133 135 139 142 145 14...  \n",
       "1  164 74 111 168 169 171 175 182 184 188 193 199...  \n",
       "2  67 70 71 70 69 67 70 79 90 103 116 132 145 155...  \n",
       "3  193 197 198 200 199 200 202 203 204 205 208 21...  \n",
       "4  202 205 209 210 209 209 210 211 212 214 218 21...  "
      ]
     },
     "execution_count": 208,
     "metadata": {},
     "output_type": "execute_result"
    }
   ],
   "source": [
    "df.head()"
   ]
  },
  {
   "cell_type": "markdown",
   "id": "297bc612",
   "metadata": {},
   "source": [
    "## EDA"
   ]
  },
  {
   "cell_type": "code",
   "execution_count": 209,
   "id": "18db1bab",
   "metadata": {},
   "outputs": [
    {
     "data": {
      "text/plain": [
       "age          0\n",
       "ethnicity    0\n",
       "gender       0\n",
       "img_name     0\n",
       "pixels       0\n",
       "dtype: int64"
      ]
     },
     "execution_count": 209,
     "metadata": {},
     "output_type": "execute_result"
    }
   ],
   "source": [
    "df.isna().sum()"
   ]
  },
  {
   "cell_type": "code",
   "execution_count": 210,
   "id": "c87b5b1b",
   "metadata": {},
   "outputs": [
    {
     "data": {
      "text/plain": [
       "age           int64\n",
       "ethnicity     int64\n",
       "gender        int64\n",
       "img_name     object\n",
       "pixels       object\n",
       "dtype: object"
      ]
     },
     "execution_count": 210,
     "metadata": {},
     "output_type": "execute_result"
    }
   ],
   "source": [
    "df.dtypes"
   ]
  },
  {
   "cell_type": "code",
   "execution_count": 211,
   "id": "5d2d8516",
   "metadata": {},
   "outputs": [],
   "source": [
    "df.drop('img_name', axis=1, inplace=True)"
   ]
  },
  {
   "cell_type": "code",
   "execution_count": 212,
   "id": "4fa6a90e",
   "metadata": {},
   "outputs": [
    {
     "data": {
      "text/plain": [
       "8917"
      ]
     },
     "execution_count": 212,
     "metadata": {},
     "output_type": "execute_result"
    }
   ],
   "source": [
    "len(df.pixels[0])"
   ]
  },
  {
   "cell_type": "code",
   "execution_count": 213,
   "id": "e9419a21",
   "metadata": {},
   "outputs": [
    {
     "data": {
      "text/plain": [
       "(23705, 4)"
      ]
     },
     "execution_count": 213,
     "metadata": {},
     "output_type": "execute_result"
    }
   ],
   "source": [
    "df.shape"
   ]
  },
  {
   "cell_type": "markdown",
   "id": "4f995eee",
   "metadata": {},
   "source": [
    "## Preprocessing"
   ]
  },
  {
   "cell_type": "code",
   "execution_count": 214,
   "id": "04f07572",
   "metadata": {},
   "outputs": [],
   "source": [
    "def pixels_to_img(pixels):\n",
    "    pixels = pixels.apply(lambda x: np.reshape(np.array(x.split(), dtype='uint8'), (48,48)))\n",
    "    return pixels"
   ]
  },
  {
   "cell_type": "code",
   "execution_count": 215,
   "id": "64620089",
   "metadata": {},
   "outputs": [],
   "source": [
    "df.pixels = pixels_to_img(df.pixels)"
   ]
  },
  {
   "cell_type": "code",
   "execution_count": 216,
   "id": "f490c06a",
   "metadata": {},
   "outputs": [],
   "source": [
    "df.pixels /= 255.0"
   ]
  },
  {
   "cell_type": "code",
   "execution_count": 217,
   "id": "e4b29335",
   "metadata": {},
   "outputs": [
    {
     "data": {
      "text/html": [
       "<div>\n",
       "<style scoped>\n",
       "    .dataframe tbody tr th:only-of-type {\n",
       "        vertical-align: middle;\n",
       "    }\n",
       "\n",
       "    .dataframe tbody tr th {\n",
       "        vertical-align: top;\n",
       "    }\n",
       "\n",
       "    .dataframe thead th {\n",
       "        text-align: right;\n",
       "    }\n",
       "</style>\n",
       "<table border=\"1\" class=\"dataframe\">\n",
       "  <thead>\n",
       "    <tr style=\"text-align: right;\">\n",
       "      <th></th>\n",
       "      <th>age</th>\n",
       "      <th>ethnicity</th>\n",
       "      <th>gender</th>\n",
       "      <th>pixels</th>\n",
       "    </tr>\n",
       "  </thead>\n",
       "  <tbody>\n",
       "    <tr>\n",
       "      <th>0</th>\n",
       "      <td>1</td>\n",
       "      <td>2</td>\n",
       "      <td>0</td>\n",
       "      <td>[[0.5058823529411764, 0.5019607843137255, 0.50...</td>\n",
       "    </tr>\n",
       "    <tr>\n",
       "      <th>1</th>\n",
       "      <td>1</td>\n",
       "      <td>2</td>\n",
       "      <td>0</td>\n",
       "      <td>[[0.6431372549019608, 0.2901960784313726, 0.43...</td>\n",
       "    </tr>\n",
       "    <tr>\n",
       "      <th>2</th>\n",
       "      <td>1</td>\n",
       "      <td>2</td>\n",
       "      <td>0</td>\n",
       "      <td>[[0.2627450980392157, 0.27450980392156865, 0.2...</td>\n",
       "    </tr>\n",
       "    <tr>\n",
       "      <th>3</th>\n",
       "      <td>1</td>\n",
       "      <td>2</td>\n",
       "      <td>0</td>\n",
       "      <td>[[0.7568627450980392, 0.7725490196078432, 0.77...</td>\n",
       "    </tr>\n",
       "    <tr>\n",
       "      <th>4</th>\n",
       "      <td>1</td>\n",
       "      <td>2</td>\n",
       "      <td>0</td>\n",
       "      <td>[[0.792156862745098, 0.803921568627451, 0.8196...</td>\n",
       "    </tr>\n",
       "  </tbody>\n",
       "</table>\n",
       "</div>"
      ],
      "text/plain": [
       "   age  ethnicity  gender                                             pixels\n",
       "0    1          2       0  [[0.5058823529411764, 0.5019607843137255, 0.50...\n",
       "1    1          2       0  [[0.6431372549019608, 0.2901960784313726, 0.43...\n",
       "2    1          2       0  [[0.2627450980392157, 0.27450980392156865, 0.2...\n",
       "3    1          2       0  [[0.7568627450980392, 0.7725490196078432, 0.77...\n",
       "4    1          2       0  [[0.792156862745098, 0.803921568627451, 0.8196..."
      ]
     },
     "execution_count": 217,
     "metadata": {},
     "output_type": "execute_result"
    }
   ],
   "source": [
    "df.head()"
   ]
  },
  {
   "cell_type": "code",
   "execution_count": 218,
   "id": "945bbad7",
   "metadata": {},
   "outputs": [],
   "source": [
    "GENDER = ['Male', 'Female']\n",
    "ETHNICITY = ['White','Black','Indian','Asian','Hispanic']"
   ]
  },
  {
   "cell_type": "code",
   "execution_count": 219,
   "id": "b79ea9d2",
   "metadata": {},
   "outputs": [],
   "source": [
    "def plot_imgs(n):\n",
    "    plt.imshow(df.pixels[n], cmap='gray')\n",
    "    plt.title(f'age: {df.age[n]}, gender: {GENDER[df.gender[n]]}, and ethnicity {ETHNICITY[df.ethnicity[n]]}')\n",
    "    plt.axis('off')\n",
    "    plt.show()"
   ]
  },
  {
   "cell_type": "code",
   "execution_count": 220,
   "id": "1238cabe",
   "metadata": {},
   "outputs": [
    {
     "data": {
      "image/png": "[encoded data removed]",
      "text/plain": [
       "<Figure size 432x288 with 1 Axes>"
      ]
     },
     "metadata": {
      "needs_background": "light"
     },
     "output_type": "display_data"
    },
    {
     "data": {
      "image/png": "[encoded data removed]",
      "text/plain": [
       "<Figure size 432x288 with 1 Axes>"
      ]
     },
     "metadata": {
      "needs_background": "light"
     },
     "output_type": "display_data"
    },
    {
     "data": {
      "image/png": "[encoded data removed]",
      "text/plain": [
       "<Figure size 432x288 with 1 Axes>"
      ]
     },
     "metadata": {
      "needs_background": "light"
     },
     "output_type": "display_data"
    },
    {
     "data": {
      "image/png": "[encoded data removed]",
      "text/plain": [
       "<Figure size 432x288 with 1 Axes>"
      ]
     },
     "metadata": {
      "needs_background": "light"
     },
     "output_type": "display_data"
    }
   ],
   "source": [
    "plt.subplot(2,2,1)\n",
    "plot_imgs(412)\n",
    "plt.subplot(2,2,2)\n",
    "plot_imgs(10)\n",
    "plt.subplot(2,2,3)\n",
    "plot_imgs(1256)\n",
    "plt.subplot(2,2,4)\n",
    "plot_imgs(23650)"
   ]
  },
  {
   "cell_type": "code",
   "execution_count": 221,
   "id": "03910e28",
   "metadata": {},
   "outputs": [
    {
     "data": {
      "text/plain": [
       "(23705, 4)"
      ]
     },
     "execution_count": 221,
     "metadata": {},
     "output_type": "execute_result"
    }
   ],
   "source": [
    "df.shape"
   ]
  },
  {
   "cell_type": "code",
   "execution_count": 222,
   "id": "6dce803f",
   "metadata": {},
   "outputs": [],
   "source": [
    "X = np.zeros(shape=(23705,48,48))\n",
    "for i in range(len(df[\"pixels\"])):\n",
    "    X[i] = df[\"pixels\"][i]"
   ]
  },
  {
   "cell_type": "code",
   "execution_count": 223,
   "id": "f653201e",
   "metadata": {},
   "outputs": [],
   "source": [
    "age_array = np.array(df.age)"
   ]
  },
  {
   "cell_type": "code",
   "execution_count": 224,
   "id": "19988fd2",
   "metadata": {},
   "outputs": [],
   "source": [
    "gender_array = np.array(df.gender)"
   ]
  },
  {
   "cell_type": "code",
   "execution_count": 225,
   "id": "e4e11c31",
   "metadata": {},
   "outputs": [
    {
     "data": {
      "text/plain": [
       "array([[[0.50588235, 0.50196078, 0.50196078, ..., 0.4627451 ,\n",
       "         0.38823529, 0.20784314],\n",
       "        [0.50980392, 0.50588235, 0.50196078, ..., 0.45882353,\n",
       "         0.38431373, 0.20392157],\n",
       "        [0.51372549, 0.50588235, 0.50980392, ..., 0.44705882,\n",
       "         0.38039216, 0.19607843],\n",
       "        ...,\n",
       "        [0.4745098 , 0.54117647, 0.57647059, ..., 0.59215686,\n",
       "         0.58823529, 0.58039216],\n",
       "        [0.45882353, 0.5372549 , 0.57254902, ..., 0.58431373,\n",
       "         0.58039216, 0.58039216],\n",
       "        [0.45098039, 0.52941176, 0.55686275, ..., 0.57254902,\n",
       "         0.57254902, 0.57254902]],\n",
       "\n",
       "       [[0.64313725, 0.29019608, 0.43529412, ..., 0.43529412,\n",
       "         0.43529412, 0.40784314],\n",
       "        [0.70196078, 0.2745098 , 0.50196078, ..., 0.43921569,\n",
       "         0.44313725, 0.42352941],\n",
       "        [0.69019608, 0.27843137, 0.57254902, ..., 0.43921569,\n",
       "         0.43921569, 0.42745098],\n",
       "        ...,\n",
       "        [0.75294118, 0.76862745, 0.92156863, ..., 0.43529412,\n",
       "         0.48627451, 0.43921569],\n",
       "        [0.90196078, 0.88627451, 0.91372549, ..., 0.77647059,\n",
       "         0.77254902, 0.70588235],\n",
       "        [0.93333333, 0.9372549 , 0.91372549, ..., 0.71372549,\n",
       "         0.66666667, 0.58039216]],\n",
       "\n",
       "       [[0.2627451 , 0.2745098 , 0.27843137, ..., 0.77254902,\n",
       "         0.76078431, 0.75294118],\n",
       "        [0.25490196, 0.25882353, 0.27058824, ..., 0.77254902,\n",
       "         0.76078431, 0.75294118],\n",
       "        [0.23921569, 0.24705882, 0.27058824, ..., 0.77254902,\n",
       "         0.76078431, 0.74509804],\n",
       "        ...,\n",
       "        [0.62352941, 0.61568627, 0.62352941, ..., 0.44705882,\n",
       "         0.41176471, 0.41176471],\n",
       "        [0.4       , 0.44705882, 0.43137255, ..., 0.44705882,\n",
       "         0.43137255, 0.41960784],\n",
       "        [0.38431373, 0.38039216, 0.37254902, ..., 0.43921569,\n",
       "         0.43529412, 0.42352941]],\n",
       "\n",
       "       ...,\n",
       "\n",
       "       [[0.23137255, 0.19607843, 0.14509804, ..., 0.46666667,\n",
       "         0.44313725, 0.38431373],\n",
       "        [0.21960784, 0.18823529, 0.17254902, ..., 0.43529412,\n",
       "         0.45098039, 0.38039216],\n",
       "        [0.15686275, 0.1254902 , 0.10196078, ..., 0.42352941,\n",
       "         0.45882353, 0.39607843],\n",
       "        ...,\n",
       "        [0.1372549 , 0.21568627, 0.41568627, ..., 0.36470588,\n",
       "         0.23921569, 0.25490196],\n",
       "        [0.16078431, 0.15686275, 0.27843137, ..., 0.40784314,\n",
       "         0.25882353, 0.27843137],\n",
       "        [0.18431373, 0.1372549 , 0.17647059, ..., 0.38431373,\n",
       "         0.30588235, 0.30588235]],\n",
       "\n",
       "       [[0.17647059, 0.42352941, 0.47058824, ..., 0.12156863,\n",
       "         0.14117647, 0.20784314],\n",
       "        [0.28627451, 0.36862745, 0.54901961, ..., 0.11372549,\n",
       "         0.11764706, 0.17647059],\n",
       "        [0.34509804, 0.43529412, 0.62745098, ..., 0.10980392,\n",
       "         0.04705882, 0.12941176],\n",
       "        ...,\n",
       "        [0.02352941, 0.00784314, 0.03921569, ..., 0.03137255,\n",
       "         0.05490196, 0.13333333],\n",
       "        [0.00784314, 0.01568627, 0.20392157, ..., 0.0627451 ,\n",
       "         0.2       , 0.16078431],\n",
       "        [0.00392157, 0.14117647, 0.2745098 , ..., 0.1254902 ,\n",
       "         0.1372549 , 0.1372549 ]],\n",
       "\n",
       "       [[0.61176471, 0.63137255, 0.62745098, ..., 0.58431373,\n",
       "         0.56078431, 0.57254902],\n",
       "        [0.6       , 0.56862745, 0.64313725, ..., 0.57647059,\n",
       "         0.54117647, 0.51764706],\n",
       "        [0.58039216, 0.56862745, 0.62352941, ..., 0.58431373,\n",
       "         0.54901961, 0.55686275],\n",
       "        ...,\n",
       "        [0.8       , 0.85882353, 0.87058824, ..., 0.74117647,\n",
       "         0.72156863, 0.6745098 ],\n",
       "        [0.83529412, 0.82352941, 0.8745098 , ..., 0.76470588,\n",
       "         0.74901961, 0.65882353],\n",
       "        [0.83137255, 0.85490196, 0.87058824, ..., 0.74509804,\n",
       "         0.72156863, 0.68235294]]])"
      ]
     },
     "execution_count": 225,
     "metadata": {},
     "output_type": "execute_result"
    }
   ],
   "source": [
    "X"
   ]
  },
  {
   "cell_type": "code",
   "execution_count": 226,
   "id": "56d744fa",
   "metadata": {},
   "outputs": [
    {
     "data": {
      "text/plain": [
       "array([ 1,  1,  1, ..., 99, 99, 99], dtype=int64)"
      ]
     },
     "execution_count": 226,
     "metadata": {},
     "output_type": "execute_result"
    }
   ],
   "source": [
    "age_array"
   ]
  },
  {
   "cell_type": "code",
   "execution_count": 227,
   "id": "b4d7f5a6",
   "metadata": {},
   "outputs": [
    {
     "data": {
      "text/plain": [
       "array([0, 0, 0, ..., 1, 1, 1], dtype=int64)"
      ]
     },
     "execution_count": 227,
     "metadata": {},
     "output_type": "execute_result"
    }
   ],
   "source": [
    "gender_array"
   ]
  },
  {
   "cell_type": "code",
   "execution_count": 228,
   "id": "70e8b243",
   "metadata": {},
   "outputs": [],
   "source": [
    "from sklearn.model_selection import train_test_split"
   ]
  },
  {
   "cell_type": "code",
   "execution_count": 229,
   "id": "2b5c34c1",
   "metadata": {},
   "outputs": [],
   "source": [
    "X_train_gender, X_test_gender, y_train_gender, y_test_gender = train_test_split(X, gender_array, test_size=0.2)"
   ]
  },
  {
   "cell_type": "code",
   "execution_count": 230,
   "id": "d354cbc5",
   "metadata": {},
   "outputs": [
    {
     "data": {
      "text/plain": [
       "(18964, 48, 48)"
      ]
     },
     "execution_count": 230,
     "metadata": {},
     "output_type": "execute_result"
    }
   ],
   "source": [
    "X_train_gender.shape"
   ]
  },
  {
   "cell_type": "code",
   "execution_count": 231,
   "id": "35e0b7c0",
   "metadata": {},
   "outputs": [
    {
     "data": {
      "text/plain": [
       "(18964,)"
      ]
     },
     "execution_count": 231,
     "metadata": {},
     "output_type": "execute_result"
    }
   ],
   "source": [
    "y_train_gender.shape"
   ]
  },
  {
   "cell_type": "code",
   "execution_count": 232,
   "id": "e06ea3ad",
   "metadata": {},
   "outputs": [
    {
     "data": {
      "text/plain": [
       "array([[0.85490196, 0.83137255, 0.8       , ..., 0.59215686, 0.54901961,\n",
       "        0.56470588],\n",
       "       [0.89803922, 0.8745098 , 0.85882353, ..., 0.63529412, 0.54509804,\n",
       "        0.55686275],\n",
       "       [0.89803922, 0.89019608, 0.84313725, ..., 0.63921569, 0.54901961,\n",
       "        0.54117647],\n",
       "       ...,\n",
       "       [0.79215686, 0.77647059, 0.78823529, ..., 0.54117647, 0.54117647,\n",
       "        0.51764706],\n",
       "       [0.77254902, 0.70196078, 0.76470588, ..., 0.53333333, 0.5254902 ,\n",
       "        0.50196078],\n",
       "       [0.70588235, 0.75294118, 0.76470588, ..., 0.5254902 , 0.54509804,\n",
       "        0.51372549]])"
      ]
     },
     "execution_count": 232,
     "metadata": {},
     "output_type": "execute_result"
    }
   ],
   "source": [
    "X_train_gender[0]"
   ]
  },
  {
   "cell_type": "code",
   "execution_count": 233,
   "id": "2d33e95d",
   "metadata": {},
   "outputs": [
    {
     "data": {
      "text/plain": [
       "1"
      ]
     },
     "execution_count": 233,
     "metadata": {},
     "output_type": "execute_result"
    }
   ],
   "source": [
    "y_train_gender[0]"
   ]
  },
  {
   "cell_type": "code",
   "execution_count": 234,
   "id": "b89334c4",
   "metadata": {},
   "outputs": [],
   "source": [
    "X_train_gender = X_train_gender.reshape(-1, 48, 48, 1)"
   ]
  },
  {
   "cell_type": "code",
   "execution_count": 235,
   "id": "022ddfae",
   "metadata": {},
   "outputs": [],
   "source": [
    "X_test_gender = X_test_gender.reshape(-1, 48, 48, 1)"
   ]
  },
  {
   "cell_type": "markdown",
   "id": "c7f0341d",
   "metadata": {},
   "source": [
    "# CNN (Convolutional Neural Nrtwork)"
   ]
  },
  {
   "cell_type": "code",
   "execution_count": 236,
   "id": "31742ef2",
   "metadata": {},
   "outputs": [],
   "source": [
    "ANN_model_gender = keras.Sequential([\n",
    "    keras.layers.Conv2D(32, (3,3), activation='relu'),\n",
    "    keras.layers.MaxPool2D((2,2)),\n",
    "    keras.layers.Conv2D(64, (3,3), activation='relu'),\n",
    "    keras.layers.MaxPool2D((2,2)),\n",
    "    keras.layers.Conv2D(128, (3,3), activation='relu'),\n",
    "    keras.layers.MaxPool2D((2,2)),\n",
    "    keras.layers.Dropout(0.2),\n",
    "    \n",
    "    keras.layers.Flatten(),\n",
    "    keras.layers.Dense(100, activation='relu'),\n",
    "    keras.layers.Dense(500, activation='relu'),\n",
    "    keras.layers.Dense(1000, activation='relu'),\n",
    "    keras.layers.Dense(500, activation='relu'),\n",
    "    keras.layers.Dense(100, activation='relu'),\n",
    "    keras.layers.Dense(1, activation='sigmoid'),\n",
    "    \n",
    "])\n",
    "\n",
    "ANN_model_gender.compile(\n",
    "    optimizer='adam',\n",
    "    loss = keras.metrics.binary_crossentropy,\n",
    "    metrics=['accuracy']\n",
    ")"
   ]
  },
  {
   "cell_type": "code",
   "execution_count": 237,
   "id": "4d63f5f6",
   "metadata": {},
   "outputs": [
    {
     "name": "stdout",
     "output_type": "stream",
     "text": [
      "Epoch 1/5\n",
      "593/593 [==============================] - 41s 66ms/step - loss: 0.4682 - accuracy: 0.7655\n",
      "Epoch 2/5\n",
      "593/593 [==============================] - 40s 67ms/step - loss: 0.3423 - accuracy: 0.8456\n",
      "Epoch 3/5\n",
      "593/593 [==============================] - 39s 66ms/step - loss: 0.3086 - accuracy: 0.8623\n",
      "Epoch 4/5\n",
      "593/593 [==============================] - 39s 66ms/step - loss: 0.2861 - accuracy: 0.8748\n",
      "Epoch 5/5\n",
      "593/593 [==============================] - 40s 67ms/step - loss: 0.2690 - accuracy: 0.8807\n"
     ]
    },
    {
     "data": {
      "text/plain": [
       "<keras.callbacks.History at 0x27bf9c68f40>"
      ]
     },
     "execution_count": 237,
     "metadata": {},
     "output_type": "execute_result"
    }
   ],
   "source": [
    "ANN_model_gender.fit(X_train_gender, y_train_gender, epochs=5)"
   ]
  },
  {
   "cell_type": "code",
   "execution_count": 238,
   "id": "0f168a84",
   "metadata": {},
   "outputs": [
    {
     "name": "stdout",
     "output_type": "stream",
     "text": [
      "149/149 [==============================] - 3s 20ms/step - loss: 0.2799 - accuracy: 0.8652\n"
     ]
    },
    {
     "data": {
      "text/plain": [
       "[0.27990856766700745, 0.8652182817459106]"
      ]
     },
     "execution_count": 238,
     "metadata": {},
     "output_type": "execute_result"
    }
   ],
   "source": [
    "ANN_model_gender.evaluate(X_test_gender, y_test_gender)"
   ]
  },
  {
   "cell_type": "code",
   "execution_count": 239,
   "id": "38924faa",
   "metadata": {},
   "outputs": [
    {
     "data": {
      "text/plain": [
       "array([[0.8924273]], dtype=float32)"
      ]
     },
     "execution_count": 239,
     "metadata": {},
     "output_type": "execute_result"
    }
   ],
   "source": [
    "ANN_model_gender.predict(np.expand_dims(X_train_gender[1121],0))"
   ]
  },
  {
   "cell_type": "code",
   "execution_count": 240,
   "id": "5da7d98f",
   "metadata": {},
   "outputs": [
    {
     "data": {
      "text/plain": [
       "1"
      ]
     },
     "execution_count": 240,
     "metadata": {},
     "output_type": "execute_result"
    }
   ],
   "source": [
    "y_train_gender[1121]"
   ]
  },
  {
   "cell_type": "code",
   "execution_count": 241,
   "id": "eebda252",
   "metadata": {},
   "outputs": [],
   "source": [
    "X_train_age, X_test_age, y_train_age, y_test_age = train_test_split(X, age_array, test_size=0.2)"
   ]
  },
  {
   "cell_type": "code",
   "execution_count": 242,
   "id": "d9d2da03",
   "metadata": {},
   "outputs": [],
   "source": [
    "X_train_age = X_train_age.reshape(-1, 48, 48, 1)\n",
    "X_test_age = X_test_age.reshape(-1, 48, 48, 1)"
   ]
  },
  {
   "cell_type": "code",
   "execution_count": 243,
   "id": "27e71cee",
   "metadata": {},
   "outputs": [],
   "source": [
    "ANN_model_age = keras.Sequential([\n",
    "    keras.layers.Conv2D(32, (3,3), activation='relu'),\n",
    "    keras.layers.MaxPool2D((2,2)),\n",
    "    keras.layers.Conv2D(64, (3,3), activation='relu'),\n",
    "    keras.layers.MaxPool2D((2,2)),\n",
    "    keras.layers.Conv2D(128, (3,3), activation='relu'),\n",
    "    keras.layers.MaxPool2D((2,2)),\n",
    "    keras.layers.Dropout(0.2),\n",
    "    \n",
    "    keras.layers.Flatten(),\n",
    "    keras.layers.Dense(100, activation='relu'),\n",
    "    keras.layers.Dense(500, activation='relu'),\n",
    "    keras.layers.Dense(1000, activation='relu'),\n",
    "    keras.layers.Dense(500, activation='relu'),\n",
    "    keras.layers.Dense(100, activation='relu'),\n",
    "    keras.layers.Dense(1, activation='relu'),\n",
    "    \n",
    "])\n",
    "\n",
    "ANN_model_age.compile(\n",
    "    optimizer='adam',\n",
    "    loss = keras.metrics.mae,\n",
    "    metrics=['accuracy']\n",
    ")"
   ]
  },
  {
   "cell_type": "code",
   "execution_count": 244,
   "id": "04918f92",
   "metadata": {},
   "outputs": [
    {
     "data": {
      "text/plain": [
       "array([35, 27, 25, ..., 26, 22, 56], dtype=int64)"
      ]
     },
     "execution_count": 244,
     "metadata": {},
     "output_type": "execute_result"
    }
   ],
   "source": [
    "y_train_age"
   ]
  },
  {
   "cell_type": "code",
   "execution_count": 245,
   "id": "2d912be1",
   "metadata": {},
   "outputs": [
    {
     "name": "stdout",
     "output_type": "stream",
     "text": [
      "Epoch 1/5\n",
      "593/593 [==============================] - 44s 70ms/step - loss: 13.3958 - accuracy: 0.0471\n",
      "Epoch 2/5\n",
      "593/593 [==============================] - 39s 66ms/step - loss: 9.1903 - accuracy: 0.0473\n",
      "Epoch 3/5\n",
      "593/593 [==============================] - 40s 67ms/step - loss: 8.1252 - accuracy: 0.0473\n",
      "Epoch 4/5\n",
      "593/593 [==============================] - 40s 67ms/step - loss: 7.5781 - accuracy: 0.0473\n",
      "Epoch 5/5\n",
      "593/593 [==============================] - 39s 66ms/step - loss: 7.2227 - accuracy: 0.0473\n"
     ]
    },
    {
     "data": {
      "text/plain": [
       "<keras.callbacks.History at 0x27bfb582670>"
      ]
     },
     "execution_count": 245,
     "metadata": {},
     "output_type": "execute_result"
    }
   ],
   "source": [
    "ANN_model_age.fit(X_train_age, y_train_age, epochs=5)"
   ]
  },
  {
   "cell_type": "code",
   "execution_count": 246,
   "id": "9042281b",
   "metadata": {},
   "outputs": [
    {
     "data": {
      "text/plain": [
       "array([[14.304233]], dtype=float32)"
      ]
     },
     "execution_count": 246,
     "metadata": {},
     "output_type": "execute_result"
    }
   ],
   "source": [
    "ANN_model_age.predict(np.expand_dims(X_train_age[1121],0))"
   ]
  },
  {
   "cell_type": "code",
   "execution_count": 247,
   "id": "737d2d3b",
   "metadata": {},
   "outputs": [
    {
     "data": {
      "text/plain": [
       "6"
      ]
     },
     "execution_count": 247,
     "metadata": {},
     "output_type": "execute_result"
    }
   ],
   "source": [
    "y_train_age[1121]"
   ]
  },
  {
   "cell_type": "markdown",
   "id": "0c5fe7c2",
   "metadata": {},
   "source": [
    "# Models saving"
   ]
  },
  {
   "cell_type": "code",
   "execution_count": 248,
   "id": "b28c64f9",
   "metadata": {},
   "outputs": [
    {
     "name": "stdout",
     "output_type": "stream",
     "text": [
      "INFO:tensorflow:Assets written to: D:\\Education\\Projects\\Gender-Age-Detection-using-CNN\\Models\\ANN_model_age\\assets\n",
      "INFO:tensorflow:Assets written to: D:\\Education\\Projects\\Gender-Age-Detection-using-CNN\\Models\\ANN_model_gender\\assets\n"
     ]
    }
   ],
   "source": [
    "ANN_model_age.save('D:\\Education\\Projects\\Gender-Age-Detection-using-CNN\\Models\\ANN_model_age')\n",
    "ANN_model_gender.save('D:\\Education\\Projects\\Gender-Age-Detection-using-CNN\\Models\\ANN_model_gender')"
   ]
  },
  {
   "cell_type": "markdown",
   "id": "ad2a217f",
   "metadata": {},
   "source": [
    "# Testing"
   ]
  },
  {
   "cell_type": "code",
   "execution_count": 249,
   "id": "313c6bdf",
   "metadata": {},
   "outputs": [],
   "source": [
    "import cv2"
   ]
  },
  {
   "cell_type": "code",
   "execution_count": 280,
   "id": "8d140dd5",
   "metadata": {},
   "outputs": [],
   "source": [
    "test_image = keras.preprocessing.image.load_img(r'D:\\Education\\Projects\\Gender-Age-Detection-using-CNN\\oldman.jpg', grayscale=True)"
   ]
  },
  {
   "cell_type": "code",
   "execution_count": 281,
   "id": "fc7177c5",
   "metadata": {},
   "outputs": [
    {
     "data": {
      "text/plain": [
       "(1706, 1707)"
      ]
     },
     "execution_count": 281,
     "metadata": {},
     "output_type": "execute_result"
    }
   ],
   "source": [
    "test_image.size"
   ]
  },
  {
   "cell_type": "code",
   "execution_count": 282,
   "id": "c38f2773",
   "metadata": {},
   "outputs": [],
   "source": [
    "test_image_resized = test_image.resize((48,48))"
   ]
  },
  {
   "cell_type": "code",
   "execution_count": 283,
   "id": "2ecad946",
   "metadata": {},
   "outputs": [
    {
     "data": {
      "image/png": "[encoded data removed]",
      "text/plain": [
       "<PIL.Image.Image image mode=L size=48x48 at 0x27BF998E580>"
      ]
     },
     "execution_count": 283,
     "metadata": {},
     "output_type": "execute_result"
    }
   ],
   "source": [
    "test_image_resized"
   ]
  },
  {
   "cell_type": "code",
   "execution_count": 284,
   "id": "5d39306b",
   "metadata": {},
   "outputs": [],
   "source": [
    "test_image_resized_array = keras.preprocessing.image.img_to_array(test_image_resized)"
   ]
  },
  {
   "cell_type": "code",
   "execution_count": 285,
   "id": "0bc0008b",
   "metadata": {},
   "outputs": [],
   "source": [
    "test_image_resized_array_reshaped = test_image_resized_array.reshape(48,48,1)"
   ]
  },
  {
   "cell_type": "code",
   "execution_count": 286,
   "id": "c2018488",
   "metadata": {},
   "outputs": [],
   "source": [
    "test_image_resized_array_reshaped /= 255.0"
   ]
  },
  {
   "cell_type": "code",
   "execution_count": 257,
   "id": "b8351900",
   "metadata": {},
   "outputs": [],
   "source": [
    "model_age = keras.models.load_model('D:\\Education\\Projects\\Gender-Age-Detection-using-CNN\\Models\\ANN_model_age')"
   ]
  },
  {
   "cell_type": "code",
   "execution_count": 258,
   "id": "9f0cf7b6",
   "metadata": {},
   "outputs": [],
   "source": [
    "model_gender = keras.models.load_model('D:\\Education\\Projects\\Gender-Age-Detection-using-CNN\\Models\\ANN_model_gender')"
   ]
  },
  {
   "cell_type": "code",
   "execution_count": 287,
   "id": "18390cdf",
   "metadata": {},
   "outputs": [
    {
     "data": {
      "text/plain": [
       "array([[23.130568]], dtype=float32)"
      ]
     },
     "execution_count": 287,
     "metadata": {},
     "output_type": "execute_result"
    }
   ],
   "source": [
    "model_age.predict(np.expand_dims(test_image_resized_array_reshaped,0))"
   ]
  },
  {
   "cell_type": "code",
   "execution_count": 288,
   "id": "589a7206",
   "metadata": {},
   "outputs": [
    {
     "data": {
      "text/plain": [
       "array([[0.21733338]], dtype=float32)"
      ]
     },
     "execution_count": 288,
     "metadata": {},
     "output_type": "execute_result"
    }
   ],
   "source": [
    "model_gender.predict(np.expand_dims(test_image_resized_array_reshaped,0))"
   ]
  },
  {
   "cell_type": "code",
   "execution_count": null,
   "id": "ac686755",
   "metadata": {},
   "outputs": [],
   "source": []
  },
  {
   "cell_type": "code",
   "execution_count": null,
   "id": "efbdedcc",
   "metadata": {},
   "outputs": [],
   "source": []
  },
  {
   "cell_type": "code",
   "execution_count": null,
   "id": "b556b637",
   "metadata": {},
   "outputs": [],
   "source": []
  }
 ],
 "metadata": {
  "kernelspec": {
   "display_name": "Python 3 (ipykernel)",
   "language": "python",
   "name": "python3"
  },
  "language_info": {
   "codemirror_mode": {
    "name": "ipython",
    "version": 3
   },
   "file_extension": ".py",
   "mimetype": "text/x-python",
   "name": "python",
   "nbconvert_exporter": "python",
   "pygments_lexer": "ipython3",
   "version": "3.9.7"
  }
 },
 "nbformat": 4,
 "nbformat_minor": 5
}
